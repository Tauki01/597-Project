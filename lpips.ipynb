{
 "cells": [
  {
   "cell_type": "code",
   "execution_count": 3,
   "metadata": {},
   "outputs": [
    {
     "name": "stdout",
     "output_type": "stream",
     "text": [
      "Setting up [LPIPS] perceptual loss: trunk [alex], v[0.1], spatial [off]\n",
      "Loading model from: c:\\Users\\sadik\\AppData\\Local\\Programs\\Python\\Python39\\lib\\site-packages\\lpips\\weights\\v0.1\\alex.pth\n"
     ]
    },
    {
     "ename": "RuntimeError",
     "evalue": "Could not infer dtype of JpegImageFile",
     "output_type": "error",
     "traceback": [
      "\u001b[1;31m---------------------------------------------------------------------------\u001b[0m",
      "\u001b[1;31mRuntimeError\u001b[0m                              Traceback (most recent call last)",
      "Cell \u001b[1;32mIn[3], line 6\u001b[0m\n\u001b[0;32m      3\u001b[0m \u001b[38;5;28;01mimport\u001b[39;00m \u001b[38;5;21;01mtorch\u001b[39;00m\n\u001b[0;32m      5\u001b[0m lpips_fn \u001b[38;5;241m=\u001b[39m lpips\u001b[38;5;241m.\u001b[39mLPIPS(net\u001b[38;5;241m=\u001b[39m\u001b[38;5;124m'\u001b[39m\u001b[38;5;124malex\u001b[39m\u001b[38;5;124m'\u001b[39m)  \u001b[38;5;66;03m# Initialize\u001b[39;00m\n\u001b[1;32m----> 6\u001b[0m img1 \u001b[38;5;241m=\u001b[39m \u001b[43mtorch\u001b[49m\u001b[38;5;241;43m.\u001b[39;49m\u001b[43mtensor\u001b[49m\u001b[43m(\u001b[49m\u001b[43mImage\u001b[49m\u001b[38;5;241;43m.\u001b[39;49m\u001b[43mopen\u001b[49m\u001b[43m(\u001b[49m\u001b[38;5;124;43m'\u001b[39;49m\u001b[38;5;124;43m./Images/pokemon/4_2/585-autumn.jpg\u001b[39;49m\u001b[38;5;124;43m'\u001b[39;49m\u001b[43m)\u001b[49m\u001b[43m)\u001b[49m\u001b[38;5;241m.\u001b[39mpermute(\u001b[38;5;241m2\u001b[39m, \u001b[38;5;241m0\u001b[39m, \u001b[38;5;241m1\u001b[39m)\u001b[38;5;241m.\u001b[39munsqueeze(\u001b[38;5;241m0\u001b[39m)\u001b[38;5;241m.\u001b[39mfloat() \u001b[38;5;241m/\u001b[39m \u001b[38;5;241m255.0\u001b[39m\n\u001b[0;32m      7\u001b[0m img2 \u001b[38;5;241m=\u001b[39m torch\u001b[38;5;241m.\u001b[39mtensor(Image\u001b[38;5;241m.\u001b[39mopen(\u001b[38;5;124m'\u001b[39m\u001b[38;5;124m.\u001b[39m\u001b[38;5;124m\\\u001b[39m\u001b[38;5;124mTrainedModels\u001b[39m\u001b[38;5;130;01m\\t\u001b[39;00m\u001b[38;5;124mest\u001b[39m\u001b[38;5;130;01m\\173\u001b[39;00m\u001b[38;5;124m4058248_generation_train_depth_3_lr_scale_0.1_BN_act_lrelu_0.05\u001b[39m\u001b[38;5;124m\\\u001b[39m\u001b[38;5;124mgen_samples_stage_2\u001b[39m\u001b[38;5;124m\\\u001b[39m\u001b[38;5;124mint_sample_6000_11.jpg\u001b[39m\u001b[38;5;124m'\u001b[39m))\u001b[38;5;241m.\u001b[39mpermute(\u001b[38;5;241m2\u001b[39m, \u001b[38;5;241m0\u001b[39m, \u001b[38;5;241m1\u001b[39m)\u001b[38;5;241m.\u001b[39munsqueeze(\u001b[38;5;241m0\u001b[39m)\u001b[38;5;241m.\u001b[39mfloat() \u001b[38;5;241m/\u001b[39m \u001b[38;5;241m255.0\u001b[39m\n\u001b[0;32m      8\u001b[0m distance \u001b[38;5;241m=\u001b[39m lpips_fn(img1, img2)\n",
      "\u001b[1;31mRuntimeError\u001b[0m: Could not infer dtype of JpegImageFile"
     ]
    }
   ],
   "source": [
    "import lpips\n",
    "from PIL import Image\n",
    "import torch\n",
    "\n",
    "lpips_fn = lpips.LPIPS(net='alex')  # Initialize\n",
    "img1 = torch.tensor(Image.open('./Images/pokemon/4_2/585-autumn.jpg')).permute(2, 0, 1).unsqueeze(0).float() / 255.0\n",
    "img2 = torch.tensor(Image.open('.\\TrainedModels\\test\\1734058248_generation_train_depth_3_lr_scale_0.1_BN_act_lrelu_0.05\\gen_samples_stage_2\\int_sample_6000_11.jpg')).permute(2, 0, 1).unsqueeze(0).float() / 255.0\n",
    "distance = lpips_fn(img1, img2)\n",
    "print(f\"LPIPS Score: {distance.item()}\")"
   ]
  },
  {
   "cell_type": "code",
   "execution_count": 6,
   "metadata": {},
   "outputs": [
    {
     "name": "stdout",
     "output_type": "stream",
     "text": [
      "Setting up [LPIPS] perceptual loss: trunk [alex], v[0.1], spatial [off]\n",
      "Loading model from: c:\\Users\\sadik\\AppData\\Local\\Programs\\Python\\Python39\\lib\\site-packages\\lpips\\weights\\v0.1\\alex.pth\n",
      "LPIPS Score: 0.10514912754297256\n"
     ]
    }
   ],
   "source": [
    "from PIL import Image\n",
    "import torchvision.transforms as transforms\n",
    "import torch\n",
    "import lpips\n",
    "\n",
    "# Initialize LPIPS model\n",
    "lpips_fn = lpips.LPIPS(net='alex')\n",
    "\n",
    "# Open the images\n",
    "img1 = Image.open('./Images/pokemon/4_2/585-autumn.jpg')\n",
    "img2 = Image.open('./TrainedModels/test/1734058248_generation_train_depth_3_lr_scale_0.1_BN_act_lrelu_0.05/gen_samples_stage_2/gen_sample_1_3.jpg')\n",
    "\n",
    "# Define the transformation with resizing\n",
    "transform = transforms.Compose([\n",
    "    transforms.Resize((128, 128)),  # Resize both images to 256x256\n",
    "    transforms.ToTensor(),          # Convert PIL image to PyTorch tensor\n",
    "])\n",
    "\n",
    "\n",
    "# Apply the transformation\n",
    "img1_tensor = transform(img1).unsqueeze(0)  # Add batch dimension\n",
    "img2_tensor = transform(img2).unsqueeze(0)\n",
    "\n",
    "# Calculate LPIPS\n",
    "distance = lpips_fn(img1_tensor, img2_tensor)\n",
    "print(f\"LPIPS Score: {distance.item()}\")"
   ]
  }
 ],
 "metadata": {
  "kernelspec": {
   "display_name": "Python 3",
   "language": "python",
   "name": "python3"
  },
  "language_info": {
   "codemirror_mode": {
    "name": "ipython",
    "version": 3
   },
   "file_extension": ".py",
   "mimetype": "text/x-python",
   "name": "python",
   "nbconvert_exporter": "python",
   "pygments_lexer": "ipython3",
   "version": "3.9.0"
  }
 },
 "nbformat": 4,
 "nbformat_minor": 2
}
